{
 "cells": [
  {
   "cell_type": "markdown",
   "metadata": {},
   "source": [
    "# Arboles de regresion"
   ]
  },
  {
   "cell_type": "code",
   "execution_count": 2,
   "metadata": {},
   "outputs": [],
   "source": [
    "import pandas as pd\n",
    "import numpy as np"
   ]
  },
  {
   "cell_type": "code",
   "execution_count": 4,
   "metadata": {},
   "outputs": [],
   "source": [
    "data = pd.read_csv(\"./vinos/Advertising.csv\")"
   ]
  },
  {
   "cell_type": "code",
   "execution_count": 5,
   "metadata": {},
   "outputs": [
    {
     "data": {
      "text/html": [
       "<div>\n",
       "<style scoped>\n",
       "    .dataframe tbody tr th:only-of-type {\n",
       "        vertical-align: middle;\n",
       "    }\n",
       "\n",
       "    .dataframe tbody tr th {\n",
       "        vertical-align: top;\n",
       "    }\n",
       "\n",
       "    .dataframe thead th {\n",
       "        text-align: right;\n",
       "    }\n",
       "</style>\n",
       "<table border=\"1\" class=\"dataframe\">\n",
       "  <thead>\n",
       "    <tr style=\"text-align: right;\">\n",
       "      <th></th>\n",
       "      <th>TV</th>\n",
       "      <th>Radio</th>\n",
       "      <th>Newspaper</th>\n",
       "      <th>Sales</th>\n",
       "    </tr>\n",
       "  </thead>\n",
       "  <tbody>\n",
       "    <tr>\n",
       "      <td>0</td>\n",
       "      <td>230.1</td>\n",
       "      <td>37.8</td>\n",
       "      <td>69.2</td>\n",
       "      <td>22.1</td>\n",
       "    </tr>\n",
       "    <tr>\n",
       "      <td>1</td>\n",
       "      <td>44.5</td>\n",
       "      <td>39.3</td>\n",
       "      <td>45.1</td>\n",
       "      <td>10.4</td>\n",
       "    </tr>\n",
       "    <tr>\n",
       "      <td>2</td>\n",
       "      <td>17.2</td>\n",
       "      <td>45.9</td>\n",
       "      <td>69.3</td>\n",
       "      <td>9.3</td>\n",
       "    </tr>\n",
       "    <tr>\n",
       "      <td>3</td>\n",
       "      <td>151.5</td>\n",
       "      <td>41.3</td>\n",
       "      <td>58.5</td>\n",
       "      <td>18.5</td>\n",
       "    </tr>\n",
       "    <tr>\n",
       "      <td>4</td>\n",
       "      <td>180.8</td>\n",
       "      <td>10.8</td>\n",
       "      <td>58.4</td>\n",
       "      <td>12.9</td>\n",
       "    </tr>\n",
       "    <tr>\n",
       "      <td>...</td>\n",
       "      <td>...</td>\n",
       "      <td>...</td>\n",
       "      <td>...</td>\n",
       "      <td>...</td>\n",
       "    </tr>\n",
       "    <tr>\n",
       "      <td>195</td>\n",
       "      <td>38.2</td>\n",
       "      <td>3.7</td>\n",
       "      <td>13.8</td>\n",
       "      <td>7.6</td>\n",
       "    </tr>\n",
       "    <tr>\n",
       "      <td>196</td>\n",
       "      <td>94.2</td>\n",
       "      <td>4.9</td>\n",
       "      <td>8.1</td>\n",
       "      <td>9.7</td>\n",
       "    </tr>\n",
       "    <tr>\n",
       "      <td>197</td>\n",
       "      <td>177.0</td>\n",
       "      <td>9.3</td>\n",
       "      <td>6.4</td>\n",
       "      <td>12.8</td>\n",
       "    </tr>\n",
       "    <tr>\n",
       "      <td>198</td>\n",
       "      <td>283.6</td>\n",
       "      <td>42.0</td>\n",
       "      <td>66.2</td>\n",
       "      <td>25.5</td>\n",
       "    </tr>\n",
       "    <tr>\n",
       "      <td>199</td>\n",
       "      <td>232.1</td>\n",
       "      <td>8.6</td>\n",
       "      <td>8.7</td>\n",
       "      <td>13.4</td>\n",
       "    </tr>\n",
       "  </tbody>\n",
       "</table>\n",
       "<p>200 rows × 4 columns</p>\n",
       "</div>"
      ],
      "text/plain": [
       "        TV  Radio  Newspaper  Sales\n",
       "0    230.1   37.8       69.2   22.1\n",
       "1     44.5   39.3       45.1   10.4\n",
       "2     17.2   45.9       69.3    9.3\n",
       "3    151.5   41.3       58.5   18.5\n",
       "4    180.8   10.8       58.4   12.9\n",
       "..     ...    ...        ...    ...\n",
       "195   38.2    3.7       13.8    7.6\n",
       "196   94.2    4.9        8.1    9.7\n",
       "197  177.0    9.3        6.4   12.8\n",
       "198  283.6   42.0       66.2   25.5\n",
       "199  232.1    8.6        8.7   13.4\n",
       "\n",
       "[200 rows x 4 columns]"
      ]
     },
     "execution_count": 5,
     "metadata": {},
     "output_type": "execute_result"
    }
   ],
   "source": [
    "data"
   ]
  },
  {
   "cell_type": "code",
   "execution_count": 6,
   "metadata": {},
   "outputs": [
    {
     "data": {
      "text/plain": [
       "['TV', 'Radio', 'Newspaper', 'Sales']"
      ]
     },
     "execution_count": 6,
     "metadata": {},
     "output_type": "execute_result"
    }
   ],
   "source": [
    "columns = data.columns.values.tolist()\n",
    "columns"
   ]
  },
  {
   "cell_type": "code",
   "execution_count": 7,
   "metadata": {},
   "outputs": [
    {
     "data": {
      "text/plain": [
       "['TV', 'Radio', 'Newspaper']"
      ]
     },
     "execution_count": 7,
     "metadata": {},
     "output_type": "execute_result"
    }
   ],
   "source": [
    "predictoras = columns[:3]\n",
    "predictoras"
   ]
  },
  {
   "cell_type": "code",
   "execution_count": 8,
   "metadata": {},
   "outputs": [
    {
     "data": {
      "text/plain": [
       "['Sales']"
      ]
     },
     "execution_count": 8,
     "metadata": {},
     "output_type": "execute_result"
    }
   ],
   "source": [
    "target = columns[3:4]\n",
    "target"
   ]
  },
  {
   "cell_type": "code",
   "execution_count": 9,
   "metadata": {},
   "outputs": [],
   "source": [
    "X = data[predictoras]\n",
    "Y = data[target]"
   ]
  },
  {
   "cell_type": "code",
   "execution_count": 10,
   "metadata": {},
   "outputs": [],
   "source": [
    "from sklearn.tree import DecisionTreeRegressor"
   ]
  },
  {
   "cell_type": "code",
   "execution_count": 11,
   "metadata": {},
   "outputs": [],
   "source": [
    "regtree=DecisionTreeRegressor(min_samples_split=20, max_depth=5, min_samples_leaf=10,random_state=0) #min_samples_split (muestras que va tomar). Vamos a podar el arbol (max_depth). random_state es como la semilla. min_samples_leaf=10 cuantos valores debe tener una hoja como minimo para ser consideradas para no overfitear"
   ]
  },
  {
   "cell_type": "code",
   "execution_count": 12,
   "metadata": {},
   "outputs": [
    {
     "data": {
      "text/plain": [
       "DecisionTreeRegressor(criterion='mse', max_depth=5, max_features=None,\n",
       "                      max_leaf_nodes=None, min_impurity_decrease=0.0,\n",
       "                      min_impurity_split=None, min_samples_leaf=10,\n",
       "                      min_samples_split=20, min_weight_fraction_leaf=0.0,\n",
       "                      presort=False, random_state=0, splitter='best')"
      ]
     },
     "execution_count": 12,
     "metadata": {},
     "output_type": "execute_result"
    }
   ],
   "source": [
    "regtree.fit(X,Y)"
   ]
  },
  {
   "cell_type": "code",
   "execution_count": 13,
   "metadata": {},
   "outputs": [],
   "source": [
    "preds = regtree.predict(data[predictoras])"
   ]
  },
  {
   "cell_type": "code",
   "execution_count": 14,
   "metadata": {},
   "outputs": [],
   "source": [
    "data[\"preds\"] = preds"
   ]
  },
  {
   "cell_type": "code",
   "execution_count": 15,
   "metadata": {},
   "outputs": [
    {
     "data": {
      "text/html": [
       "<div>\n",
       "<style scoped>\n",
       "    .dataframe tbody tr th:only-of-type {\n",
       "        vertical-align: middle;\n",
       "    }\n",
       "\n",
       "    .dataframe tbody tr th {\n",
       "        vertical-align: top;\n",
       "    }\n",
       "\n",
       "    .dataframe thead th {\n",
       "        text-align: right;\n",
       "    }\n",
       "</style>\n",
       "<table border=\"1\" class=\"dataframe\">\n",
       "  <thead>\n",
       "    <tr style=\"text-align: right;\">\n",
       "      <th></th>\n",
       "      <th>TV</th>\n",
       "      <th>Radio</th>\n",
       "      <th>Newspaper</th>\n",
       "      <th>Sales</th>\n",
       "      <th>preds</th>\n",
       "    </tr>\n",
       "  </thead>\n",
       "  <tbody>\n",
       "    <tr>\n",
       "      <td>0</td>\n",
       "      <td>230.1</td>\n",
       "      <td>37.8</td>\n",
       "      <td>69.2</td>\n",
       "      <td>22.1</td>\n",
       "      <td>22.700000</td>\n",
       "    </tr>\n",
       "    <tr>\n",
       "      <td>1</td>\n",
       "      <td>44.5</td>\n",
       "      <td>39.3</td>\n",
       "      <td>45.1</td>\n",
       "      <td>10.4</td>\n",
       "      <td>13.100000</td>\n",
       "    </tr>\n",
       "    <tr>\n",
       "      <td>2</td>\n",
       "      <td>17.2</td>\n",
       "      <td>45.9</td>\n",
       "      <td>69.3</td>\n",
       "      <td>9.3</td>\n",
       "      <td>7.813333</td>\n",
       "    </tr>\n",
       "    <tr>\n",
       "      <td>3</td>\n",
       "      <td>151.5</td>\n",
       "      <td>41.3</td>\n",
       "      <td>58.5</td>\n",
       "      <td>18.5</td>\n",
       "      <td>17.958824</td>\n",
       "    </tr>\n",
       "    <tr>\n",
       "      <td>4</td>\n",
       "      <td>180.8</td>\n",
       "      <td>10.8</td>\n",
       "      <td>58.4</td>\n",
       "      <td>12.9</td>\n",
       "      <td>13.872727</td>\n",
       "    </tr>\n",
       "  </tbody>\n",
       "</table>\n",
       "</div>"
      ],
      "text/plain": [
       "      TV  Radio  Newspaper  Sales      preds\n",
       "0  230.1   37.8       69.2   22.1  22.700000\n",
       "1   44.5   39.3       45.1   10.4  13.100000\n",
       "2   17.2   45.9       69.3    9.3   7.813333\n",
       "3  151.5   41.3       58.5   18.5  17.958824\n",
       "4  180.8   10.8       58.4   12.9  13.872727"
      ]
     },
     "execution_count": 15,
     "metadata": {},
     "output_type": "execute_result"
    }
   ],
   "source": [
    "data.head()"
   ]
  },
  {
   "cell_type": "code",
   "execution_count": 16,
   "metadata": {},
   "outputs": [],
   "source": [
    "from sklearn.tree import export_graphviz"
   ]
  },
  {
   "cell_type": "code",
   "execution_count": 17,
   "metadata": {},
   "outputs": [
    {
     "data": {
      "image/svg+xml": [
       "<?xml version=\"1.0\" encoding=\"UTF-8\" standalone=\"no\"?>\n",
       "<!DOCTYPE svg PUBLIC \"-//W3C//DTD SVG 1.1//EN\"\n",
       " \"http://www.w3.org/Graphics/SVG/1.1/DTD/svg11.dtd\">\n",
       "<!-- Generated by graphviz version 2.43.0 (0)\n",
       " -->\n",
       "<!-- Title: Tree Pages: 1 -->\n",
       "<svg width=\"1086pt\" height=\"558pt\"\n",
       " viewBox=\"0.00 0.00 1085.71 558.00\" xmlns=\"http://www.w3.org/2000/svg\" xmlns:xlink=\"http://www.w3.org/1999/xlink\">\n",
       "<g id=\"graph0\" class=\"graph\" transform=\"scale(1 1) rotate(0) translate(4 554)\">\n",
       "<title>Tree</title>\n",
       "<polygon fill=\"white\" stroke=\"transparent\" points=\"-4,4 -4,-554 1081.71,-554 1081.71,4 -4,4\"/>\n",
       "<!-- 0 -->\n",
       "<g id=\"node1\" class=\"node\">\n",
       "<title>0</title>\n",
       "<polygon fill=\"none\" stroke=\"black\" points=\"494.07,-550 394.64,-550 394.64,-486 494.07,-486 494.07,-550\"/>\n",
       "<text text-anchor=\"middle\" x=\"444.36\" y=\"-534.8\" font-family=\"Times,serif\" font-size=\"14.00\">TV &lt;= 122.05</text>\n",
       "<text text-anchor=\"middle\" x=\"444.36\" y=\"-520.8\" font-family=\"Times,serif\" font-size=\"14.00\">mse = 27.086</text>\n",
       "<text text-anchor=\"middle\" x=\"444.36\" y=\"-506.8\" font-family=\"Times,serif\" font-size=\"14.00\">samples = 200</text>\n",
       "<text text-anchor=\"middle\" x=\"444.36\" y=\"-492.8\" font-family=\"Times,serif\" font-size=\"14.00\">value = 14.023</text>\n",
       "</g>\n",
       "<!-- 1 -->\n",
       "<g id=\"node2\" class=\"node\">\n",
       "<title>1</title>\n",
       "<polygon fill=\"none\" stroke=\"black\" points=\"373.57,-450 281.14,-450 281.14,-386 373.57,-386 373.57,-450\"/>\n",
       "<text text-anchor=\"middle\" x=\"327.36\" y=\"-434.8\" font-family=\"Times,serif\" font-size=\"14.00\">TV &lt;= 30.05</text>\n",
       "<text text-anchor=\"middle\" x=\"327.36\" y=\"-420.8\" font-family=\"Times,serif\" font-size=\"14.00\">mse = 7.979</text>\n",
       "<text text-anchor=\"middle\" x=\"327.36\" y=\"-406.8\" font-family=\"Times,serif\" font-size=\"14.00\">samples = 83</text>\n",
       "<text text-anchor=\"middle\" x=\"327.36\" y=\"-392.8\" font-family=\"Times,serif\" font-size=\"14.00\">value = 9.776</text>\n",
       "</g>\n",
       "<!-- 0&#45;&gt;1 -->\n",
       "<g id=\"edge1\" class=\"edge\">\n",
       "<title>0&#45;&gt;1</title>\n",
       "<path fill=\"none\" stroke=\"black\" d=\"M407.34,-485.99C396.24,-476.7 383.95,-466.4 372.39,-456.72\"/>\n",
       "<polygon fill=\"black\" stroke=\"black\" points=\"374.45,-453.88 364.54,-450.14 369.96,-459.25 374.45,-453.88\"/>\n",
       "<text text-anchor=\"middle\" x=\"366.74\" y=\"-470.85\" font-family=\"Times,serif\" font-size=\"14.00\">True</text>\n",
       "</g>\n",
       "<!-- 12 -->\n",
       "<g id=\"node13\" class=\"node\">\n",
       "<title>12</title>\n",
       "<polygon fill=\"none\" stroke=\"black\" points=\"615.09,-450 511.62,-450 511.62,-386 615.09,-386 615.09,-450\"/>\n",
       "<text text-anchor=\"middle\" x=\"563.36\" y=\"-434.8\" font-family=\"Times,serif\" font-size=\"14.00\">Radio &lt;= 26.85</text>\n",
       "<text text-anchor=\"middle\" x=\"563.36\" y=\"-420.8\" font-family=\"Times,serif\" font-size=\"14.00\">mse = 18.772</text>\n",
       "<text text-anchor=\"middle\" x=\"563.36\" y=\"-406.8\" font-family=\"Times,serif\" font-size=\"14.00\">samples = 117</text>\n",
       "<text text-anchor=\"middle\" x=\"563.36\" y=\"-392.8\" font-family=\"Times,serif\" font-size=\"14.00\">value = 17.035</text>\n",
       "</g>\n",
       "<!-- 0&#45;&gt;12 -->\n",
       "<g id=\"edge12\" class=\"edge\">\n",
       "<title>0&#45;&gt;12</title>\n",
       "<path fill=\"none\" stroke=\"black\" d=\"M482.01,-485.99C493.3,-476.7 505.8,-466.4 517.55,-456.72\"/>\n",
       "<polygon fill=\"black\" stroke=\"black\" points=\"520.05,-459.2 525.54,-450.14 515.6,-453.8 520.05,-459.2\"/>\n",
       "<text text-anchor=\"middle\" x=\"523.13\" y=\"-470.83\" font-family=\"Times,serif\" font-size=\"14.00\">False</text>\n",
       "</g>\n",
       "<!-- 2 -->\n",
       "<g id=\"node3\" class=\"node\">\n",
       "<title>2</title>\n",
       "<polygon fill=\"none\" stroke=\"black\" points=\"203.57,-350 111.14,-350 111.14,-286 203.57,-286 203.57,-350\"/>\n",
       "<text text-anchor=\"middle\" x=\"157.36\" y=\"-334.8\" font-family=\"Times,serif\" font-size=\"14.00\">TV &lt;= 15.05</text>\n",
       "<text text-anchor=\"middle\" x=\"157.36\" y=\"-320.8\" font-family=\"Times,serif\" font-size=\"14.00\">mse = 3.323</text>\n",
       "<text text-anchor=\"middle\" x=\"157.36\" y=\"-306.8\" font-family=\"Times,serif\" font-size=\"14.00\">samples = 26</text>\n",
       "<text text-anchor=\"middle\" x=\"157.36\" y=\"-292.8\" font-family=\"Times,serif\" font-size=\"14.00\">value = 6.742</text>\n",
       "</g>\n",
       "<!-- 1&#45;&gt;2 -->\n",
       "<g id=\"edge2\" class=\"edge\">\n",
       "<title>1&#45;&gt;2</title>\n",
       "<path fill=\"none\" stroke=\"black\" d=\"M280.9,-390.22C259.82,-378.07 234.72,-363.6 212.68,-350.89\"/>\n",
       "<polygon fill=\"black\" stroke=\"black\" points=\"214.17,-347.71 203.75,-345.75 210.67,-353.77 214.17,-347.71\"/>\n",
       "</g>\n",
       "<!-- 5 -->\n",
       "<g id=\"node6\" class=\"node\">\n",
       "<title>5</title>\n",
       "<polygon fill=\"none\" stroke=\"black\" points=\"375.59,-350 279.12,-350 279.12,-286 375.59,-286 375.59,-350\"/>\n",
       "<text text-anchor=\"middle\" x=\"327.36\" y=\"-334.8\" font-family=\"Times,serif\" font-size=\"14.00\">Radio &lt;= 27.1</text>\n",
       "<text text-anchor=\"middle\" x=\"327.36\" y=\"-320.8\" font-family=\"Times,serif\" font-size=\"14.00\">mse = 3.99</text>\n",
       "<text text-anchor=\"middle\" x=\"327.36\" y=\"-306.8\" font-family=\"Times,serif\" font-size=\"14.00\">samples = 57</text>\n",
       "<text text-anchor=\"middle\" x=\"327.36\" y=\"-292.8\" font-family=\"Times,serif\" font-size=\"14.00\">value = 11.16</text>\n",
       "</g>\n",
       "<!-- 1&#45;&gt;5 -->\n",
       "<g id=\"edge5\" class=\"edge\">\n",
       "<title>1&#45;&gt;5</title>\n",
       "<path fill=\"none\" stroke=\"black\" d=\"M327.36,-385.99C327.36,-377.86 327.36,-368.96 327.36,-360.38\"/>\n",
       "<polygon fill=\"black\" stroke=\"black\" points=\"330.86,-360.14 327.36,-350.14 323.86,-360.14 330.86,-360.14\"/>\n",
       "</g>\n",
       "<!-- 3 -->\n",
       "<g id=\"node4\" class=\"node\">\n",
       "<title>3</title>\n",
       "<polygon fill=\"none\" stroke=\"black\" points=\"92.57,-243 0.14,-243 0.14,-193 92.57,-193 92.57,-243\"/>\n",
       "<text text-anchor=\"middle\" x=\"46.36\" y=\"-227.8\" font-family=\"Times,serif\" font-size=\"14.00\">mse = 2.54</text>\n",
       "<text text-anchor=\"middle\" x=\"46.36\" y=\"-213.8\" font-family=\"Times,serif\" font-size=\"14.00\">samples = 11</text>\n",
       "<text text-anchor=\"middle\" x=\"46.36\" y=\"-199.8\" font-family=\"Times,serif\" font-size=\"14.00\">value = 5.282</text>\n",
       "</g>\n",
       "<!-- 2&#45;&gt;3 -->\n",
       "<g id=\"edge3\" class=\"edge\">\n",
       "<title>2&#45;&gt;3</title>\n",
       "<path fill=\"none\" stroke=\"black\" d=\"M122.24,-285.99C109.3,-274.57 94.64,-261.63 81.68,-250.19\"/>\n",
       "<polygon fill=\"black\" stroke=\"black\" points=\"83.68,-247.28 73.87,-243.29 79.05,-252.53 83.68,-247.28\"/>\n",
       "</g>\n",
       "<!-- 4 -->\n",
       "<g id=\"node5\" class=\"node\">\n",
       "<title>4</title>\n",
       "<polygon fill=\"none\" stroke=\"black\" points=\"203.57,-243 111.14,-243 111.14,-193 203.57,-193 203.57,-243\"/>\n",
       "<text text-anchor=\"middle\" x=\"157.36\" y=\"-227.8\" font-family=\"Times,serif\" font-size=\"14.00\">mse = 1.186</text>\n",
       "<text text-anchor=\"middle\" x=\"157.36\" y=\"-213.8\" font-family=\"Times,serif\" font-size=\"14.00\">samples = 15</text>\n",
       "<text text-anchor=\"middle\" x=\"157.36\" y=\"-199.8\" font-family=\"Times,serif\" font-size=\"14.00\">value = 7.813</text>\n",
       "</g>\n",
       "<!-- 2&#45;&gt;4 -->\n",
       "<g id=\"edge4\" class=\"edge\">\n",
       "<title>2&#45;&gt;4</title>\n",
       "<path fill=\"none\" stroke=\"black\" d=\"M157.36,-285.99C157.36,-275.65 157.36,-264.06 157.36,-253.46\"/>\n",
       "<polygon fill=\"black\" stroke=\"black\" points=\"160.86,-253.29 157.36,-243.29 153.86,-253.29 160.86,-253.29\"/>\n",
       "</g>\n",
       "<!-- 6 -->\n",
       "<g id=\"node7\" class=\"node\">\n",
       "<title>6</title>\n",
       "<polygon fill=\"none\" stroke=\"black\" points=\"321.07,-250 221.64,-250 221.64,-186 321.07,-186 321.07,-250\"/>\n",
       "<text text-anchor=\"middle\" x=\"271.36\" y=\"-234.8\" font-family=\"Times,serif\" font-size=\"14.00\">Radio &lt;= 13.3</text>\n",
       "<text text-anchor=\"middle\" x=\"271.36\" y=\"-220.8\" font-family=\"Times,serif\" font-size=\"14.00\">mse = 1.707</text>\n",
       "<text text-anchor=\"middle\" x=\"271.36\" y=\"-206.8\" font-family=\"Times,serif\" font-size=\"14.00\">samples = 39</text>\n",
       "<text text-anchor=\"middle\" x=\"271.36\" y=\"-192.8\" font-family=\"Times,serif\" font-size=\"14.00\">value = 10.264</text>\n",
       "</g>\n",
       "<!-- 5&#45;&gt;6 -->\n",
       "<g id=\"edge6\" class=\"edge\">\n",
       "<title>5&#45;&gt;6</title>\n",
       "<path fill=\"none\" stroke=\"black\" d=\"M309.64,-285.99C304.74,-277.41 299.34,-267.98 294.19,-258.97\"/>\n",
       "<polygon fill=\"black\" stroke=\"black\" points=\"297.15,-257.09 289.15,-250.14 291.07,-260.56 297.15,-257.09\"/>\n",
       "</g>\n",
       "<!-- 11 -->\n",
       "<g id=\"node12\" class=\"node\">\n",
       "<title>11</title>\n",
       "<polygon fill=\"none\" stroke=\"black\" points=\"429.36,-243 339.36,-243 339.36,-193 429.36,-193 429.36,-243\"/>\n",
       "<text text-anchor=\"middle\" x=\"384.36\" y=\"-227.8\" font-family=\"Times,serif\" font-size=\"14.00\">mse = 3.433</text>\n",
       "<text text-anchor=\"middle\" x=\"384.36\" y=\"-213.8\" font-family=\"Times,serif\" font-size=\"14.00\">samples = 18</text>\n",
       "<text text-anchor=\"middle\" x=\"384.36\" y=\"-199.8\" font-family=\"Times,serif\" font-size=\"14.00\">value = 13.1</text>\n",
       "</g>\n",
       "<!-- 5&#45;&gt;11 -->\n",
       "<g id=\"edge11\" class=\"edge\">\n",
       "<title>5&#45;&gt;11</title>\n",
       "<path fill=\"none\" stroke=\"black\" d=\"M345.39,-285.99C351.66,-275.22 358.71,-263.09 365.08,-252.15\"/>\n",
       "<polygon fill=\"black\" stroke=\"black\" points=\"368.23,-253.69 370.23,-243.29 362.18,-250.17 368.23,-253.69\"/>\n",
       "</g>\n",
       "<!-- 7 -->\n",
       "<g id=\"node8\" class=\"node\">\n",
       "<title>7</title>\n",
       "<polygon fill=\"none\" stroke=\"black\" points=\"203.57,-150 111.14,-150 111.14,-86 203.57,-86 203.57,-150\"/>\n",
       "<text text-anchor=\"middle\" x=\"157.36\" y=\"-134.8\" font-family=\"Times,serif\" font-size=\"14.00\">TV &lt;= 83.7</text>\n",
       "<text text-anchor=\"middle\" x=\"157.36\" y=\"-120.8\" font-family=\"Times,serif\" font-size=\"14.00\">mse = 0.914</text>\n",
       "<text text-anchor=\"middle\" x=\"157.36\" y=\"-106.8\" font-family=\"Times,serif\" font-size=\"14.00\">samples = 23</text>\n",
       "<text text-anchor=\"middle\" x=\"157.36\" y=\"-92.8\" font-family=\"Times,serif\" font-size=\"14.00\">value = 9.565</text>\n",
       "</g>\n",
       "<!-- 6&#45;&gt;7 -->\n",
       "<g id=\"edge7\" class=\"edge\">\n",
       "<title>6&#45;&gt;7</title>\n",
       "<path fill=\"none\" stroke=\"black\" d=\"M235.29,-185.99C224.47,-176.7 212.5,-166.4 201.24,-156.72\"/>\n",
       "<polygon fill=\"black\" stroke=\"black\" points=\"203.45,-154.01 193.58,-150.14 198.88,-159.32 203.45,-154.01\"/>\n",
       "</g>\n",
       "<!-- 10 -->\n",
       "<g id=\"node11\" class=\"node\">\n",
       "<title>10</title>\n",
       "<polygon fill=\"none\" stroke=\"black\" points=\"321.06,-143 221.66,-143 221.66,-93 321.06,-93 321.06,-143\"/>\n",
       "<text text-anchor=\"middle\" x=\"271.36\" y=\"-127.8\" font-family=\"Times,serif\" font-size=\"14.00\">mse = 1.137</text>\n",
       "<text text-anchor=\"middle\" x=\"271.36\" y=\"-113.8\" font-family=\"Times,serif\" font-size=\"14.00\">samples = 16</text>\n",
       "<text text-anchor=\"middle\" x=\"271.36\" y=\"-99.8\" font-family=\"Times,serif\" font-size=\"14.00\">value = 11.269</text>\n",
       "</g>\n",
       "<!-- 6&#45;&gt;10 -->\n",
       "<g id=\"edge10\" class=\"edge\">\n",
       "<title>6&#45;&gt;10</title>\n",
       "<path fill=\"none\" stroke=\"black\" d=\"M271.36,-185.99C271.36,-175.65 271.36,-164.06 271.36,-153.46\"/>\n",
       "<polygon fill=\"black\" stroke=\"black\" points=\"274.86,-153.29 271.36,-143.29 267.86,-153.29 274.86,-153.29\"/>\n",
       "</g>\n",
       "<!-- 8 -->\n",
       "<g id=\"node9\" class=\"node\">\n",
       "<title>8</title>\n",
       "<polygon fill=\"none\" stroke=\"black\" points=\"146.57,-50 54.14,-50 54.14,0 146.57,0 146.57,-50\"/>\n",
       "<text text-anchor=\"middle\" x=\"100.36\" y=\"-34.8\" font-family=\"Times,serif\" font-size=\"14.00\">mse = 0.496</text>\n",
       "<text text-anchor=\"middle\" x=\"100.36\" y=\"-20.8\" font-family=\"Times,serif\" font-size=\"14.00\">samples = 12</text>\n",
       "<text text-anchor=\"middle\" x=\"100.36\" y=\"-6.8\" font-family=\"Times,serif\" font-size=\"14.00\">value = 8.992</text>\n",
       "</g>\n",
       "<!-- 7&#45;&gt;8 -->\n",
       "<g id=\"edge8\" class=\"edge\">\n",
       "<title>7&#45;&gt;8</title>\n",
       "<path fill=\"none\" stroke=\"black\" d=\"M137.9,-85.94C132.38,-77.13 126.37,-67.52 120.79,-58.63\"/>\n",
       "<polygon fill=\"black\" stroke=\"black\" points=\"123.68,-56.65 115.41,-50.03 117.75,-60.36 123.68,-56.65\"/>\n",
       "</g>\n",
       "<!-- 9 -->\n",
       "<g id=\"node10\" class=\"node\">\n",
       "<title>9</title>\n",
       "<polygon fill=\"none\" stroke=\"black\" points=\"264.07,-50 164.64,-50 164.64,0 264.07,0 264.07,-50\"/>\n",
       "<text text-anchor=\"middle\" x=\"214.36\" y=\"-34.8\" font-family=\"Times,serif\" font-size=\"14.00\">mse = 0.619</text>\n",
       "<text text-anchor=\"middle\" x=\"214.36\" y=\"-20.8\" font-family=\"Times,serif\" font-size=\"14.00\">samples = 11</text>\n",
       "<text text-anchor=\"middle\" x=\"214.36\" y=\"-6.8\" font-family=\"Times,serif\" font-size=\"14.00\">value = 10.191</text>\n",
       "</g>\n",
       "<!-- 7&#45;&gt;9 -->\n",
       "<g id=\"edge9\" class=\"edge\">\n",
       "<title>7&#45;&gt;9</title>\n",
       "<path fill=\"none\" stroke=\"black\" d=\"M176.81,-85.94C182.33,-77.13 188.35,-67.52 193.92,-58.63\"/>\n",
       "<polygon fill=\"black\" stroke=\"black\" points=\"196.96,-60.36 199.3,-50.03 191.03,-56.65 196.96,-60.36\"/>\n",
       "</g>\n",
       "<!-- 13 -->\n",
       "<g id=\"node14\" class=\"node\">\n",
       "<title>13</title>\n",
       "<polygon fill=\"none\" stroke=\"black\" points=\"615.09,-350 511.62,-350 511.62,-286 615.09,-286 615.09,-350\"/>\n",
       "<text text-anchor=\"middle\" x=\"563.36\" y=\"-334.8\" font-family=\"Times,serif\" font-size=\"14.00\">Radio &lt;= 10.05</text>\n",
       "<text text-anchor=\"middle\" x=\"563.36\" y=\"-320.8\" font-family=\"Times,serif\" font-size=\"14.00\">mse = 4.229</text>\n",
       "<text text-anchor=\"middle\" x=\"563.36\" y=\"-306.8\" font-family=\"Times,serif\" font-size=\"14.00\">samples = 61</text>\n",
       "<text text-anchor=\"middle\" x=\"563.36\" y=\"-292.8\" font-family=\"Times,serif\" font-size=\"14.00\">value = 13.636</text>\n",
       "</g>\n",
       "<!-- 12&#45;&gt;13 -->\n",
       "<g id=\"edge13\" class=\"edge\">\n",
       "<title>12&#45;&gt;13</title>\n",
       "<path fill=\"none\" stroke=\"black\" d=\"M563.36,-385.99C563.36,-377.86 563.36,-368.96 563.36,-360.38\"/>\n",
       "<polygon fill=\"black\" stroke=\"black\" points=\"566.86,-360.14 563.36,-350.14 559.86,-360.14 566.86,-360.14\"/>\n",
       "</g>\n",
       "<!-- 22 -->\n",
       "<g id=\"node23\" class=\"node\">\n",
       "<title>22</title>\n",
       "<polygon fill=\"none\" stroke=\"black\" points=\"791.07,-350 691.64,-350 691.64,-286 791.07,-286 791.07,-350\"/>\n",
       "<text text-anchor=\"middle\" x=\"741.36\" y=\"-334.8\" font-family=\"Times,serif\" font-size=\"14.00\">TV &lt;= 194.55</text>\n",
       "<text text-anchor=\"middle\" x=\"741.36\" y=\"-320.8\" font-family=\"Times,serif\" font-size=\"14.00\">mse = 8.32</text>\n",
       "<text text-anchor=\"middle\" x=\"741.36\" y=\"-306.8\" font-family=\"Times,serif\" font-size=\"14.00\">samples = 56</text>\n",
       "<text text-anchor=\"middle\" x=\"741.36\" y=\"-292.8\" font-family=\"Times,serif\" font-size=\"14.00\">value = 20.738</text>\n",
       "</g>\n",
       "<!-- 12&#45;&gt;22 -->\n",
       "<g id=\"edge22\" class=\"edge\">\n",
       "<title>12&#45;&gt;22</title>\n",
       "<path fill=\"none\" stroke=\"black\" d=\"M615.32,-388.39C636.42,-376.77 660.91,-363.29 682.66,-351.32\"/>\n",
       "<polygon fill=\"black\" stroke=\"black\" points=\"684.4,-354.35 691.47,-346.46 681.02,-348.22 684.4,-354.35\"/>\n",
       "</g>\n",
       "<!-- 14 -->\n",
       "<g id=\"node15\" class=\"node\">\n",
       "<title>14</title>\n",
       "<polygon fill=\"none\" stroke=\"black\" points=\"555.06,-250 455.66,-250 455.66,-186 555.06,-186 555.06,-250\"/>\n",
       "<text text-anchor=\"middle\" x=\"505.36\" y=\"-234.8\" font-family=\"Times,serif\" font-size=\"14.00\">TV &lt;= 203.3</text>\n",
       "<text text-anchor=\"middle\" x=\"505.36\" y=\"-220.8\" font-family=\"Times,serif\" font-size=\"14.00\">mse = 0.848</text>\n",
       "<text text-anchor=\"middle\" x=\"505.36\" y=\"-206.8\" font-family=\"Times,serif\" font-size=\"14.00\">samples = 29</text>\n",
       "<text text-anchor=\"middle\" x=\"505.36\" y=\"-192.8\" font-family=\"Times,serif\" font-size=\"14.00\">value = 11.862</text>\n",
       "</g>\n",
       "<!-- 13&#45;&gt;14 -->\n",
       "<g id=\"edge14\" class=\"edge\">\n",
       "<title>13&#45;&gt;14</title>\n",
       "<path fill=\"none\" stroke=\"black\" d=\"M545,-285.99C539.93,-277.41 534.34,-267.98 529.01,-258.97\"/>\n",
       "<polygon fill=\"black\" stroke=\"black\" points=\"531.89,-256.97 523.79,-250.14 525.87,-260.53 531.89,-256.97\"/>\n",
       "</g>\n",
       "<!-- 17 -->\n",
       "<g id=\"node18\" class=\"node\">\n",
       "<title>17</title>\n",
       "<polygon fill=\"none\" stroke=\"black\" points=\"673.07,-250 573.64,-250 573.64,-186 673.07,-186 673.07,-250\"/>\n",
       "<text text-anchor=\"middle\" x=\"623.36\" y=\"-234.8\" font-family=\"Times,serif\" font-size=\"14.00\">TV &lt;= 182.85</text>\n",
       "<text text-anchor=\"middle\" x=\"623.36\" y=\"-220.8\" font-family=\"Times,serif\" font-size=\"14.00\">mse = 1.857</text>\n",
       "<text text-anchor=\"middle\" x=\"623.36\" y=\"-206.8\" font-family=\"Times,serif\" font-size=\"14.00\">samples = 32</text>\n",
       "<text text-anchor=\"middle\" x=\"623.36\" y=\"-192.8\" font-family=\"Times,serif\" font-size=\"14.00\">value = 15.244</text>\n",
       "</g>\n",
       "<!-- 13&#45;&gt;17 -->\n",
       "<g id=\"edge17\" class=\"edge\">\n",
       "<title>13&#45;&gt;17</title>\n",
       "<path fill=\"none\" stroke=\"black\" d=\"M582.34,-285.99C587.65,-277.32 593.49,-267.78 599.06,-258.68\"/>\n",
       "<polygon fill=\"black\" stroke=\"black\" points=\"602.05,-260.5 604.29,-250.14 596.08,-256.84 602.05,-260.5\"/>\n",
       "</g>\n",
       "<!-- 15 -->\n",
       "<g id=\"node16\" class=\"node\">\n",
       "<title>15</title>\n",
       "<polygon fill=\"none\" stroke=\"black\" points=\"438.06,-143 338.66,-143 338.66,-93 438.06,-93 438.06,-143\"/>\n",
       "<text text-anchor=\"middle\" x=\"388.36\" y=\"-127.8\" font-family=\"Times,serif\" font-size=\"14.00\">mse = 0.694</text>\n",
       "<text text-anchor=\"middle\" x=\"388.36\" y=\"-113.8\" font-family=\"Times,serif\" font-size=\"14.00\">samples = 13</text>\n",
       "<text text-anchor=\"middle\" x=\"388.36\" y=\"-99.8\" font-family=\"Times,serif\" font-size=\"14.00\">value = 11.223</text>\n",
       "</g>\n",
       "<!-- 14&#45;&gt;15 -->\n",
       "<g id=\"edge15\" class=\"edge\">\n",
       "<title>14&#45;&gt;15</title>\n",
       "<path fill=\"none\" stroke=\"black\" d=\"M468.34,-185.99C454.57,-174.46 438.96,-161.39 425.21,-149.87\"/>\n",
       "<polygon fill=\"black\" stroke=\"black\" points=\"427.27,-147.03 417.35,-143.29 422.77,-152.39 427.27,-147.03\"/>\n",
       "</g>\n",
       "<!-- 16 -->\n",
       "<g id=\"node17\" class=\"node\">\n",
       "<title>16</title>\n",
       "<polygon fill=\"none\" stroke=\"black\" points=\"555.07,-143 455.64,-143 455.64,-93 555.07,-93 555.07,-143\"/>\n",
       "<text text-anchor=\"middle\" x=\"505.36\" y=\"-127.8\" font-family=\"Times,serif\" font-size=\"14.00\">mse = 0.372</text>\n",
       "<text text-anchor=\"middle\" x=\"505.36\" y=\"-113.8\" font-family=\"Times,serif\" font-size=\"14.00\">samples = 16</text>\n",
       "<text text-anchor=\"middle\" x=\"505.36\" y=\"-99.8\" font-family=\"Times,serif\" font-size=\"14.00\">value = 12.381</text>\n",
       "</g>\n",
       "<!-- 14&#45;&gt;16 -->\n",
       "<g id=\"edge16\" class=\"edge\">\n",
       "<title>14&#45;&gt;16</title>\n",
       "<path fill=\"none\" stroke=\"black\" d=\"M505.36,-185.99C505.36,-175.65 505.36,-164.06 505.36,-153.46\"/>\n",
       "<polygon fill=\"black\" stroke=\"black\" points=\"508.86,-153.29 505.36,-143.29 501.86,-153.29 508.86,-153.29\"/>\n",
       "</g>\n",
       "<!-- 18 -->\n",
       "<g id=\"node19\" class=\"node\">\n",
       "<title>18</title>\n",
       "<polygon fill=\"none\" stroke=\"black\" points=\"673.07,-143 573.64,-143 573.64,-93 673.07,-93 673.07,-143\"/>\n",
       "<text text-anchor=\"middle\" x=\"623.36\" y=\"-127.8\" font-family=\"Times,serif\" font-size=\"14.00\">mse = 0.938</text>\n",
       "<text text-anchor=\"middle\" x=\"623.36\" y=\"-113.8\" font-family=\"Times,serif\" font-size=\"14.00\">samples = 11</text>\n",
       "<text text-anchor=\"middle\" x=\"623.36\" y=\"-99.8\" font-family=\"Times,serif\" font-size=\"14.00\">value = 13.873</text>\n",
       "</g>\n",
       "<!-- 17&#45;&gt;18 -->\n",
       "<g id=\"edge18\" class=\"edge\">\n",
       "<title>17&#45;&gt;18</title>\n",
       "<path fill=\"none\" stroke=\"black\" d=\"M623.36,-185.99C623.36,-175.65 623.36,-164.06 623.36,-153.46\"/>\n",
       "<polygon fill=\"black\" stroke=\"black\" points=\"626.86,-153.29 623.36,-143.29 619.86,-153.29 626.86,-153.29\"/>\n",
       "</g>\n",
       "<!-- 19 -->\n",
       "<g id=\"node20\" class=\"node\">\n",
       "<title>19</title>\n",
       "<polygon fill=\"none\" stroke=\"black\" points=\"791.07,-150 691.64,-150 691.64,-86 791.07,-86 791.07,-150\"/>\n",
       "<text text-anchor=\"middle\" x=\"741.36\" y=\"-134.8\" font-family=\"Times,serif\" font-size=\"14.00\">Radio &lt;= 19.2</text>\n",
       "<text text-anchor=\"middle\" x=\"741.36\" y=\"-120.8\" font-family=\"Times,serif\" font-size=\"14.00\">mse = 0.838</text>\n",
       "<text text-anchor=\"middle\" x=\"741.36\" y=\"-106.8\" font-family=\"Times,serif\" font-size=\"14.00\">samples = 21</text>\n",
       "<text text-anchor=\"middle\" x=\"741.36\" y=\"-92.8\" font-family=\"Times,serif\" font-size=\"14.00\">value = 15.962</text>\n",
       "</g>\n",
       "<!-- 17&#45;&gt;19 -->\n",
       "<g id=\"edge19\" class=\"edge\">\n",
       "<title>17&#45;&gt;19</title>\n",
       "<path fill=\"none\" stroke=\"black\" d=\"M660.69,-185.99C671.88,-176.7 684.28,-166.4 695.93,-156.72\"/>\n",
       "<polygon fill=\"black\" stroke=\"black\" points=\"698.4,-159.22 703.86,-150.14 693.93,-153.84 698.4,-159.22\"/>\n",
       "</g>\n",
       "<!-- 20 -->\n",
       "<g id=\"node21\" class=\"node\">\n",
       "<title>20</title>\n",
       "<polygon fill=\"none\" stroke=\"black\" points=\"713.07,-50 613.64,-50 613.64,0 713.07,0 713.07,-50\"/>\n",
       "<text text-anchor=\"middle\" x=\"663.36\" y=\"-34.8\" font-family=\"Times,serif\" font-size=\"14.00\">mse = 0.243</text>\n",
       "<text text-anchor=\"middle\" x=\"663.36\" y=\"-20.8\" font-family=\"Times,serif\" font-size=\"14.00\">samples = 11</text>\n",
       "<text text-anchor=\"middle\" x=\"663.36\" y=\"-6.8\" font-family=\"Times,serif\" font-size=\"14.00\">value = 15.318</text>\n",
       "</g>\n",
       "<!-- 19&#45;&gt;20 -->\n",
       "<g id=\"edge20\" class=\"edge\">\n",
       "<title>19&#45;&gt;20</title>\n",
       "<path fill=\"none\" stroke=\"black\" d=\"M714.73,-85.94C706.95,-76.86 698.43,-66.92 690.61,-57.8\"/>\n",
       "<polygon fill=\"black\" stroke=\"black\" points=\"693.12,-55.34 683.95,-50.03 687.8,-59.9 693.12,-55.34\"/>\n",
       "</g>\n",
       "<!-- 21 -->\n",
       "<g id=\"node22\" class=\"node\">\n",
       "<title>21</title>\n",
       "<polygon fill=\"none\" stroke=\"black\" points=\"823.57,-50 731.14,-50 731.14,0 823.57,0 823.57,-50\"/>\n",
       "<text text-anchor=\"middle\" x=\"777.36\" y=\"-34.8\" font-family=\"Times,serif\" font-size=\"14.00\">mse = 0.534</text>\n",
       "<text text-anchor=\"middle\" x=\"777.36\" y=\"-20.8\" font-family=\"Times,serif\" font-size=\"14.00\">samples = 10</text>\n",
       "<text text-anchor=\"middle\" x=\"777.36\" y=\"-6.8\" font-family=\"Times,serif\" font-size=\"14.00\">value = 16.67</text>\n",
       "</g>\n",
       "<!-- 19&#45;&gt;21 -->\n",
       "<g id=\"edge21\" class=\"edge\">\n",
       "<title>19&#45;&gt;21</title>\n",
       "<path fill=\"none\" stroke=\"black\" d=\"M753.64,-85.94C757.02,-77.41 760.69,-68.12 764.12,-59.47\"/>\n",
       "<polygon fill=\"black\" stroke=\"black\" points=\"767.43,-60.62 767.85,-50.03 760.92,-58.04 767.43,-60.62\"/>\n",
       "</g>\n",
       "<!-- 23 -->\n",
       "<g id=\"node24\" class=\"node\">\n",
       "<title>23</title>\n",
       "<polygon fill=\"none\" stroke=\"black\" points=\"791.07,-243 691.64,-243 691.64,-193 791.07,-193 791.07,-243\"/>\n",
       "<text text-anchor=\"middle\" x=\"741.36\" y=\"-227.8\" font-family=\"Times,serif\" font-size=\"14.00\">mse = 2.887</text>\n",
       "<text text-anchor=\"middle\" x=\"741.36\" y=\"-213.8\" font-family=\"Times,serif\" font-size=\"14.00\">samples = 17</text>\n",
       "<text text-anchor=\"middle\" x=\"741.36\" y=\"-199.8\" font-family=\"Times,serif\" font-size=\"14.00\">value = 17.959</text>\n",
       "</g>\n",
       "<!-- 22&#45;&gt;23 -->\n",
       "<g id=\"edge23\" class=\"edge\">\n",
       "<title>22&#45;&gt;23</title>\n",
       "<path fill=\"none\" stroke=\"black\" d=\"M741.36,-285.99C741.36,-275.65 741.36,-264.06 741.36,-253.46\"/>\n",
       "<polygon fill=\"black\" stroke=\"black\" points=\"744.86,-253.29 741.36,-243.29 737.86,-253.29 744.86,-253.29\"/>\n",
       "</g>\n",
       "<!-- 24 -->\n",
       "<g id=\"node25\" class=\"node\">\n",
       "<title>24</title>\n",
       "<polygon fill=\"none\" stroke=\"black\" points=\"909.07,-250 809.64,-250 809.64,-186 909.07,-186 909.07,-250\"/>\n",
       "<text text-anchor=\"middle\" x=\"859.36\" y=\"-234.8\" font-family=\"Times,serif\" font-size=\"14.00\">Radio &lt;= 35.3</text>\n",
       "<text text-anchor=\"middle\" x=\"859.36\" y=\"-220.8\" font-family=\"Times,serif\" font-size=\"14.00\">mse = 5.855</text>\n",
       "<text text-anchor=\"middle\" x=\"859.36\" y=\"-206.8\" font-family=\"Times,serif\" font-size=\"14.00\">samples = 39</text>\n",
       "<text text-anchor=\"middle\" x=\"859.36\" y=\"-192.8\" font-family=\"Times,serif\" font-size=\"14.00\">value = 21.949</text>\n",
       "</g>\n",
       "<!-- 22&#45;&gt;24 -->\n",
       "<g id=\"edge24\" class=\"edge\">\n",
       "<title>22&#45;&gt;24</title>\n",
       "<path fill=\"none\" stroke=\"black\" d=\"M778.69,-285.99C789.88,-276.7 802.28,-266.4 813.93,-256.72\"/>\n",
       "<polygon fill=\"black\" stroke=\"black\" points=\"816.4,-259.22 821.86,-250.14 811.93,-253.84 816.4,-259.22\"/>\n",
       "</g>\n",
       "<!-- 25 -->\n",
       "<g id=\"node26\" class=\"node\">\n",
       "<title>25</title>\n",
       "<polygon fill=\"none\" stroke=\"black\" points=\"909.07,-143 809.64,-143 809.64,-93 909.07,-93 909.07,-143\"/>\n",
       "<text text-anchor=\"middle\" x=\"859.36\" y=\"-127.8\" font-family=\"Times,serif\" font-size=\"14.00\">mse = 0.891</text>\n",
       "<text text-anchor=\"middle\" x=\"859.36\" y=\"-113.8\" font-family=\"Times,serif\" font-size=\"14.00\">samples = 17</text>\n",
       "<text text-anchor=\"middle\" x=\"859.36\" y=\"-99.8\" font-family=\"Times,serif\" font-size=\"14.00\">value = 19.653</text>\n",
       "</g>\n",
       "<!-- 24&#45;&gt;25 -->\n",
       "<g id=\"edge25\" class=\"edge\">\n",
       "<title>24&#45;&gt;25</title>\n",
       "<path fill=\"none\" stroke=\"black\" d=\"M859.36,-185.99C859.36,-175.65 859.36,-164.06 859.36,-153.46\"/>\n",
       "<polygon fill=\"black\" stroke=\"black\" points=\"862.86,-153.29 859.36,-143.29 855.86,-153.29 862.86,-153.29\"/>\n",
       "</g>\n",
       "<!-- 26 -->\n",
       "<g id=\"node27\" class=\"node\">\n",
       "<title>26</title>\n",
       "<polygon fill=\"none\" stroke=\"black\" points=\"1027.07,-150 927.64,-150 927.64,-86 1027.07,-86 1027.07,-150\"/>\n",
       "<text text-anchor=\"middle\" x=\"977.36\" y=\"-134.8\" font-family=\"Times,serif\" font-size=\"14.00\">TV &lt;= 242.45</text>\n",
       "<text text-anchor=\"middle\" x=\"977.36\" y=\"-120.8\" font-family=\"Times,serif\" font-size=\"14.00\">mse = 2.472</text>\n",
       "<text text-anchor=\"middle\" x=\"977.36\" y=\"-106.8\" font-family=\"Times,serif\" font-size=\"14.00\">samples = 22</text>\n",
       "<text text-anchor=\"middle\" x=\"977.36\" y=\"-92.8\" font-family=\"Times,serif\" font-size=\"14.00\">value = 23.723</text>\n",
       "</g>\n",
       "<!-- 24&#45;&gt;26 -->\n",
       "<g id=\"edge26\" class=\"edge\">\n",
       "<title>24&#45;&gt;26</title>\n",
       "<path fill=\"none\" stroke=\"black\" d=\"M896.69,-185.99C907.88,-176.7 920.28,-166.4 931.93,-156.72\"/>\n",
       "<polygon fill=\"black\" stroke=\"black\" points=\"934.4,-159.22 939.86,-150.14 929.93,-153.84 934.4,-159.22\"/>\n",
       "</g>\n",
       "<!-- 27 -->\n",
       "<g id=\"node28\" class=\"node\">\n",
       "<title>27</title>\n",
       "<polygon fill=\"none\" stroke=\"black\" points=\"967.36,-50 877.36,-50 877.36,0 967.36,0 967.36,-50\"/>\n",
       "<text text-anchor=\"middle\" x=\"922.36\" y=\"-34.8\" font-family=\"Times,serif\" font-size=\"14.00\">mse = 0.862</text>\n",
       "<text text-anchor=\"middle\" x=\"922.36\" y=\"-20.8\" font-family=\"Times,serif\" font-size=\"14.00\">samples = 12</text>\n",
       "<text text-anchor=\"middle\" x=\"922.36\" y=\"-6.8\" font-family=\"Times,serif\" font-size=\"14.00\">value = 22.7</text>\n",
       "</g>\n",
       "<!-- 26&#45;&gt;27 -->\n",
       "<g id=\"edge27\" class=\"edge\">\n",
       "<title>26&#45;&gt;27</title>\n",
       "<path fill=\"none\" stroke=\"black\" d=\"M958.58,-85.94C953.26,-77.13 947.45,-67.52 942.08,-58.63\"/>\n",
       "<polygon fill=\"black\" stroke=\"black\" points=\"945.05,-56.78 936.88,-50.03 939.06,-60.4 945.05,-56.78\"/>\n",
       "</g>\n",
       "<!-- 28 -->\n",
       "<g id=\"node29\" class=\"node\">\n",
       "<title>28</title>\n",
       "<polygon fill=\"none\" stroke=\"black\" points=\"1077.57,-50 985.14,-50 985.14,0 1077.57,0 1077.57,-50\"/>\n",
       "<text text-anchor=\"middle\" x=\"1031.36\" y=\"-34.8\" font-family=\"Times,serif\" font-size=\"14.00\">mse = 1.643</text>\n",
       "<text text-anchor=\"middle\" x=\"1031.36\" y=\"-20.8\" font-family=\"Times,serif\" font-size=\"14.00\">samples = 10</text>\n",
       "<text text-anchor=\"middle\" x=\"1031.36\" y=\"-6.8\" font-family=\"Times,serif\" font-size=\"14.00\">value = 24.95</text>\n",
       "</g>\n",
       "<!-- 26&#45;&gt;28 -->\n",
       "<g id=\"edge28\" class=\"edge\">\n",
       "<title>26&#45;&gt;28</title>\n",
       "<path fill=\"none\" stroke=\"black\" d=\"M995.79,-85.94C1000.96,-77.22 1006.6,-67.72 1011.83,-58.91\"/>\n",
       "<polygon fill=\"black\" stroke=\"black\" points=\"1015,-60.42 1017.1,-50.03 1008.98,-56.84 1015,-60.42\"/>\n",
       "</g>\n",
       "</g>\n",
       "</svg>\n"
      ],
      "text/plain": [
       "<graphviz.files.Source at 0x1a1d9359d0>"
      ]
     },
     "execution_count": 17,
     "metadata": {},
     "output_type": "execute_result"
    }
   ],
   "source": [
    "with open(\"ads_reg_tree.dot\", \"w\") as dotfile:\n",
    "    export_graphviz(regtree,out_file=dotfile, feature_names=predictoras)\n",
    "    dotfile.close()\n",
    "import os\n",
    "from graphviz import Source\n",
    "file = open(\"ads_reg_tree.dot\", \"r\")\n",
    "text = file.read()\n",
    "Source(text)"
   ]
  },
  {
   "cell_type": "code",
   "execution_count": 18,
   "metadata": {},
   "outputs": [],
   "source": [
    "from sklearn.model_selection import KFold\n",
    "from sklearn.model_selection import cross_val_score"
   ]
  },
  {
   "cell_type": "code",
   "execution_count": 19,
   "metadata": {},
   "outputs": [],
   "source": [
    "cv = KFold(n_splits=10, shuffle=True, random_state=1) #tabla de crossvalidation\n",
    "scores = cross_val_score(regtree, X, Y, scoring=\"neg_mean_squared_error\", cv = cv, n_jobs=2) #scoring tambien se puede poner el \"r2\""
   ]
  },
  {
   "cell_type": "code",
   "execution_count": 20,
   "metadata": {},
   "outputs": [
    {
     "name": "stdout",
     "output_type": "stream",
     "text": [
      "[-2.06586118 -1.39585399 -2.26692841 -3.95471893 -1.95963853 -2.81407918\n",
      " -1.23843398 -2.81365247 -2.59537782 -2.7650793 ]\n"
     ]
    }
   ],
   "source": [
    "print(scores)"
   ]
  },
  {
   "cell_type": "code",
   "execution_count": 21,
   "metadata": {},
   "outputs": [
    {
     "name": "stdout",
     "output_type": "stream",
     "text": [
      "-2.386962378415744\n"
     ]
    }
   ],
   "source": [
    "score = scores.mean()\n",
    "print(score)"
   ]
  },
  {
   "cell_type": "code",
   "execution_count": 22,
   "metadata": {},
   "outputs": [
    {
     "data": {
      "text/plain": [
       "array([0.62338592, 0.37661408, 0.        ])"
      ]
     },
     "execution_count": 22,
     "metadata": {},
     "output_type": "execute_result"
    }
   ],
   "source": [
    "regtree.feature_importances_"
   ]
  },
  {
   "cell_type": "code",
   "execution_count": 24,
   "metadata": {},
   "outputs": [
    {
     "data": {
      "text/plain": [
       "[('TV', 0.6233859166690897), ('Radio', 0.3766140833309103), ('Newspaper', 0.0)]"
      ]
     },
     "execution_count": 24,
     "metadata": {},
     "output_type": "execute_result"
    }
   ],
   "source": [
    "list(zip(predictoras, regtree.feature_importances_))"
   ]
  },
  {
   "cell_type": "code",
   "execution_count": 25,
   "metadata": {},
   "outputs": [],
   "source": [
    "# #Random forest"
   ]
  },
  {
   "cell_type": "code",
   "execution_count": 26,
   "metadata": {},
   "outputs": [],
   "source": [
    "from sklearn.ensemble import RandomForestRegressor"
   ]
  },
  {
   "cell_type": "code",
   "execution_count": 31,
   "metadata": {},
   "outputs": [
    {
     "name": "stderr",
     "output_type": "stream",
     "text": [
      "/Users/oscarrodas/opt/anaconda3/lib/python3.7/site-packages/ipykernel_launcher.py:2: DataConversionWarning: A column-vector y was passed when a 1d array was expected. Please change the shape of y to (n_samples,), for example using ravel().\n",
      "  \n"
     ]
    },
    {
     "data": {
      "text/plain": [
       "RandomForestRegressor(bootstrap=True, criterion='mse', max_depth=None,\n",
       "                      max_features='auto', max_leaf_nodes=None,\n",
       "                      min_impurity_decrease=0.0, min_impurity_split=None,\n",
       "                      min_samples_leaf=1, min_samples_split=2,\n",
       "                      min_weight_fraction_leaf=0.0, n_estimators=1000, n_jobs=4,\n",
       "                      oob_score=True, random_state=None, verbose=0,\n",
       "                      warm_start=False)"
      ]
     },
     "execution_count": 31,
     "metadata": {},
     "output_type": "execute_result"
    }
   ],
   "source": [
    "forest = RandomForestRegressor(n_jobs=4, oob_score=True, n_estimators=1000)\n",
    "forest.fit(X,Y)"
   ]
  },
  {
   "cell_type": "code",
   "execution_count": 32,
   "metadata": {},
   "outputs": [
    {
     "data": {
      "text/html": [
       "<div>\n",
       "<style scoped>\n",
       "    .dataframe tbody tr th:only-of-type {\n",
       "        vertical-align: middle;\n",
       "    }\n",
       "\n",
       "    .dataframe tbody tr th {\n",
       "        vertical-align: top;\n",
       "    }\n",
       "\n",
       "    .dataframe thead th {\n",
       "        text-align: right;\n",
       "    }\n",
       "</style>\n",
       "<table border=\"1\" class=\"dataframe\">\n",
       "  <thead>\n",
       "    <tr style=\"text-align: right;\">\n",
       "      <th></th>\n",
       "      <th>TV</th>\n",
       "      <th>Radio</th>\n",
       "      <th>Newspaper</th>\n",
       "      <th>Sales</th>\n",
       "      <th>preds</th>\n",
       "      <th>f predict</th>\n",
       "    </tr>\n",
       "  </thead>\n",
       "  <tbody>\n",
       "    <tr>\n",
       "      <td>0</td>\n",
       "      <td>230.1</td>\n",
       "      <td>37.8</td>\n",
       "      <td>69.2</td>\n",
       "      <td>22.1</td>\n",
       "      <td>22.700000</td>\n",
       "      <td>21.9839</td>\n",
       "    </tr>\n",
       "    <tr>\n",
       "      <td>1</td>\n",
       "      <td>44.5</td>\n",
       "      <td>39.3</td>\n",
       "      <td>45.1</td>\n",
       "      <td>10.4</td>\n",
       "      <td>13.100000</td>\n",
       "      <td>10.6631</td>\n",
       "    </tr>\n",
       "    <tr>\n",
       "      <td>2</td>\n",
       "      <td>17.2</td>\n",
       "      <td>45.9</td>\n",
       "      <td>69.3</td>\n",
       "      <td>9.3</td>\n",
       "      <td>7.813333</td>\n",
       "      <td>8.8693</td>\n",
       "    </tr>\n",
       "    <tr>\n",
       "      <td>3</td>\n",
       "      <td>151.5</td>\n",
       "      <td>41.3</td>\n",
       "      <td>58.5</td>\n",
       "      <td>18.5</td>\n",
       "      <td>17.958824</td>\n",
       "      <td>18.2924</td>\n",
       "    </tr>\n",
       "    <tr>\n",
       "      <td>4</td>\n",
       "      <td>180.8</td>\n",
       "      <td>10.8</td>\n",
       "      <td>58.4</td>\n",
       "      <td>12.9</td>\n",
       "      <td>13.872727</td>\n",
       "      <td>13.3886</td>\n",
       "    </tr>\n",
       "  </tbody>\n",
       "</table>\n",
       "</div>"
      ],
      "text/plain": [
       "      TV  Radio  Newspaper  Sales      preds  f predict\n",
       "0  230.1   37.8       69.2   22.1  22.700000    21.9839\n",
       "1   44.5   39.3       45.1   10.4  13.100000    10.6631\n",
       "2   17.2   45.9       69.3    9.3   7.813333     8.8693\n",
       "3  151.5   41.3       58.5   18.5  17.958824    18.2924\n",
       "4  180.8   10.8       58.4   12.9  13.872727    13.3886"
      ]
     },
     "execution_count": 32,
     "metadata": {},
     "output_type": "execute_result"
    }
   ],
   "source": [
    "data[\"f predict\"] = forest.predict(X)\n",
    "data.head()"
   ]
  },
  {
   "cell_type": "code",
   "execution_count": 33,
   "metadata": {},
   "outputs": [
    {
     "data": {
      "text/plain": [
       "0.9816693264344818"
      ]
     },
     "execution_count": 33,
     "metadata": {},
     "output_type": "execute_result"
    }
   ],
   "source": [
    "forest.oob_score_"
   ]
  },
  {
   "cell_type": "code",
   "execution_count": null,
   "metadata": {},
   "outputs": [],
   "source": []
  }
 ],
 "metadata": {
  "kernelspec": {
   "display_name": "Python 3",
   "language": "python",
   "name": "python3"
  },
  "language_info": {
   "codemirror_mode": {
    "name": "ipython",
    "version": 3
   },
   "file_extension": ".py",
   "mimetype": "text/x-python",
   "name": "python",
   "nbconvert_exporter": "python",
   "pygments_lexer": "ipython3",
   "version": "3.7.4"
  }
 },
 "nbformat": 4,
 "nbformat_minor": 2
}
