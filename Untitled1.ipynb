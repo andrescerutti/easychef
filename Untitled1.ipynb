{
 "cells": [
  {
   "cell_type": "code",
   "execution_count": 2,
   "metadata": {},
   "outputs": [],
   "source": [
    "import pandas as pd\n",
    "import numpy as np\n",
    "from scipy.cluster.vq import vq"
   ]
  },
  {
   "cell_type": "code",
   "execution_count": 5,
   "metadata": {},
   "outputs": [
    {
     "data": {
      "text/plain": [
       "array([[0.90348221, 0.39308051, 0.62396996],\n",
       "       [0.6378774 , 0.88049907, 0.29917202],\n",
       "       [0.70219827, 0.90320616, 0.88138193],\n",
       "       [0.4057498 , 0.45244662, 0.26707032],\n",
       "       [0.16286487, 0.8892147 , 0.14847623],\n",
       "       [0.98472349, 0.03236122, 0.51535075],\n",
       "       [0.20112905, 0.88601087, 0.51361992],\n",
       "       [0.57830159, 0.29928265, 0.8371974 ],\n",
       "       [0.52664983, 0.10484424, 0.27812941],\n",
       "       [0.04659494, 0.50907615, 0.47242629],\n",
       "       [0.90448733, 0.94349222, 0.70339235],\n",
       "       [0.84629795, 0.92799464, 0.81936188],\n",
       "       [0.84518556, 0.79145187, 0.17100016],\n",
       "       [0.28997792, 0.30448392, 0.1476601 ],\n",
       "       [0.57381853, 0.86355701, 0.32329947],\n",
       "       [0.27564943, 0.68218738, 0.19140631],\n",
       "       [0.58102448, 0.86255827, 0.23452664],\n",
       "       [0.28985187, 0.38285364, 0.34960393],\n",
       "       [0.32879374, 0.94017484, 0.0380261 ],\n",
       "       [0.77684511, 0.38464466, 0.71672375],\n",
       "       [0.45246511, 0.69896235, 0.35362047],\n",
       "       [0.79423435, 0.29711244, 0.25063809],\n",
       "       [0.85179036, 0.81562092, 0.43428899],\n",
       "       [0.76359571, 0.32958304, 0.21278897],\n",
       "       [0.42188698, 0.55491193, 0.90343476],\n",
       "       [0.75584051, 0.95600191, 0.2538781 ],\n",
       "       [0.38845353, 0.25763866, 0.22553455],\n",
       "       [0.19530624, 0.22681295, 0.50917966],\n",
       "       [0.58357617, 0.71048138, 0.18086473],\n",
       "       [0.32758111, 0.41795559, 0.4143997 ]])"
      ]
     },
     "execution_count": 5,
     "metadata": {},
     "output_type": "execute_result"
    }
   ],
   "source": [
    "np.random.seed(2019)\n",
    "data = np.random.random(90).reshape(30,3)\n",
    "data"
   ]
  },
  {
   "cell_type": "code",
   "execution_count": 6,
   "metadata": {},
   "outputs": [],
   "source": [
    "np.random.seed(2019)\n",
    "c1 = np.random.choice(range(len(data)))\n",
    "c2 = np.random.choice(range(len(data)))"
   ]
  },
  {
   "cell_type": "code",
   "execution_count": 7,
   "metadata": {},
   "outputs": [
    {
     "data": {
      "text/plain": [
       "array([0.52664983, 0.10484424, 0.27812941])"
      ]
     },
     "execution_count": 7,
     "metadata": {},
     "output_type": "execute_result"
    }
   ],
   "source": [
    "data[c1]"
   ]
  },
  {
   "cell_type": "code",
   "execution_count": 8,
   "metadata": {},
   "outputs": [
    {
     "data": {
      "text/plain": [
       "array([0.32879374, 0.94017484, 0.0380261 ])"
      ]
     },
     "execution_count": 8,
     "metadata": {},
     "output_type": "execute_result"
    }
   ],
   "source": [
    "data[c2]"
   ]
  },
  {
   "cell_type": "code",
   "execution_count": 10,
   "metadata": {},
   "outputs": [
    {
     "data": {
      "text/plain": [
       "array([[0.52664983, 0.10484424, 0.27812941],\n",
       "       [0.32879374, 0.94017484, 0.0380261 ]])"
      ]
     },
     "execution_count": 10,
     "metadata": {},
     "output_type": "execute_result"
    }
   ],
   "source": [
    "clust_centers = np.vstack((data[c1], data[c2]))\n",
    "clust_centers"
   ]
  },
  {
   "cell_type": "code",
   "execution_count": 11,
   "metadata": {},
   "outputs": [
    {
     "data": {
      "text/plain": [
       "(array([0, 1, 1, 0, 1, 0, 1, 0, 0, 0, 1, 1, 1, 0, 1, 1, 1, 0, 1, 0, 1, 0,\n",
       "        1, 0, 0, 1, 0, 0, 1, 0], dtype=int32),\n",
       " array([0.58710176, 0.40901234, 0.92306374, 0.36819361, 0.20573905,\n",
       "        0.52092152, 0.49540033, 0.59416431, 0.        , 0.65696835,\n",
       "        0.87985588, 0.93725374, 0.55358932, 0.3359938 , 0.38378163,\n",
       "        0.30480705, 0.32902453, 0.37211706, 0.        , 0.57727892,\n",
       "        0.4160263 , 0.33064227, 0.66787979, 0.33304692, 0.77752361,\n",
       "        0.47876041, 0.21262778, 0.42195872, 0.37158585, 0.39526784]))"
      ]
     },
     "execution_count": 11,
     "metadata": {},
     "output_type": "execute_result"
    }
   ],
   "source": [
    "clusters = vq(data, clust_centers)\n",
    "clusters"
   ]
  },
  {
   "cell_type": "code",
   "execution_count": 12,
   "metadata": {},
   "outputs": [],
   "source": [
    "from scipy.cluster.vq import kmeans"
   ]
  },
  {
   "cell_type": "code",
   "execution_count": 13,
   "metadata": {},
   "outputs": [],
   "source": [
    "clust_centers2 = kmeans(data,clust_centers)[0]"
   ]
  },
  {
   "cell_type": "code",
   "execution_count": 14,
   "metadata": {},
   "outputs": [
    {
     "data": {
      "text/plain": [
       "(array([0, 1, 1, 0, 1, 0, 1, 0, 0, 0, 1, 1, 1, 0, 1, 1, 1, 0, 1, 0, 1, 0,\n",
       "        1, 0, 0, 1, 0, 0, 1, 0], dtype=int32),\n",
       " array([0.43294467, 0.09608856, 0.52864662, 0.24362439, 0.47398625,\n",
       "        0.56178887, 0.40704058, 0.39556654, 0.28239407, 0.50014506,\n",
       "        0.47455223, 0.52822682, 0.33639196, 0.37509491, 0.04878549,\n",
       "        0.39083467, 0.13580341, 0.24958445, 0.4258676 , 0.38045894,\n",
       "        0.19853799, 0.34538055, 0.28127299, 0.34396277, 0.51587241,\n",
       "        0.23557029, 0.26514793, 0.33936945, 0.23490942, 0.20797683]))"
      ]
     },
     "execution_count": 14,
     "metadata": {},
     "output_type": "execute_result"
    }
   ],
   "source": [
    "vq(data,clust_centers2)"
   ]
  },
  {
   "cell_type": "code",
   "execution_count": null,
   "metadata": {},
   "outputs": [],
   "source": []
  },
  {
   "cell_type": "code",
   "execution_count": null,
   "metadata": {},
   "outputs": [],
   "source": []
  }
 ],
 "metadata": {
  "kernelspec": {
   "display_name": "Python 3",
   "language": "python",
   "name": "python3"
  },
  "language_info": {
   "codemirror_mode": {
    "name": "ipython",
    "version": 3
   },
   "file_extension": ".py",
   "mimetype": "text/x-python",
   "name": "python",
   "nbconvert_exporter": "python",
   "pygments_lexer": "ipython3",
   "version": "3.7.4"
  }
 },
 "nbformat": 4,
 "nbformat_minor": 2
}
