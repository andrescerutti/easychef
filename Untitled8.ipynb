{
 "cells": [
  {
   "cell_type": "code",
   "execution_count": 1,
   "metadata": {},
   "outputs": [],
   "source": [
    "import pandas as pd\n",
    "import numpy as np \n",
    "import matplotlib.pyplot as plt"
   ]
  },
  {
   "cell_type": "code",
   "execution_count": 7,
   "metadata": {},
   "outputs": [],
   "source": [
    "data = pd.read_csv('../../Downloads/corazon.txt', header=None, sep=' ')"
   ]
  },
  {
   "cell_type": "code",
   "execution_count": 8,
   "metadata": {},
   "outputs": [
    {
     "data": {
      "text/html": [
       "<div>\n",
       "<style scoped>\n",
       "    .dataframe tbody tr th:only-of-type {\n",
       "        vertical-align: middle;\n",
       "    }\n",
       "\n",
       "    .dataframe tbody tr th {\n",
       "        vertical-align: top;\n",
       "    }\n",
       "\n",
       "    .dataframe thead th {\n",
       "        text-align: right;\n",
       "    }\n",
       "</style>\n",
       "<table border=\"1\" class=\"dataframe\">\n",
       "  <thead>\n",
       "    <tr style=\"text-align: right;\">\n",
       "      <th></th>\n",
       "      <th>0</th>\n",
       "      <th>1</th>\n",
       "      <th>2</th>\n",
       "      <th>3</th>\n",
       "      <th>4</th>\n",
       "      <th>5</th>\n",
       "      <th>6</th>\n",
       "      <th>7</th>\n",
       "      <th>8</th>\n",
       "      <th>9</th>\n",
       "      <th>10</th>\n",
       "      <th>11</th>\n",
       "      <th>12</th>\n",
       "      <th>13</th>\n",
       "    </tr>\n",
       "  </thead>\n",
       "  <tbody>\n",
       "    <tr>\n",
       "      <td>0</td>\n",
       "      <td>Ax:</td>\n",
       "      <td>1.02</td>\n",
       "      <td>Ay:</td>\n",
       "      <td>0.13</td>\n",
       "      <td>Az:</td>\n",
       "      <td>0.02</td>\n",
       "      <td>T:</td>\n",
       "      <td>28.91</td>\n",
       "      <td>Gx:</td>\n",
       "      <td>0.16</td>\n",
       "      <td>Gy:</td>\n",
       "      <td>9.4</td>\n",
       "      <td>Gz:</td>\n",
       "      <td>-7.67</td>\n",
       "    </tr>\n",
       "    <tr>\n",
       "      <td>1</td>\n",
       "      <td>Ax:</td>\n",
       "      <td>1.02</td>\n",
       "      <td>Ay:</td>\n",
       "      <td>0.13</td>\n",
       "      <td>Az:</td>\n",
       "      <td>0.02</td>\n",
       "      <td>T:</td>\n",
       "      <td>28.91</td>\n",
       "      <td>Gx:</td>\n",
       "      <td>0.16</td>\n",
       "      <td>Gy:</td>\n",
       "      <td>9.4</td>\n",
       "      <td>Gz:</td>\n",
       "      <td>-7.67</td>\n",
       "    </tr>\n",
       "    <tr>\n",
       "      <td>2</td>\n",
       "      <td>Ax:</td>\n",
       "      <td>1.02</td>\n",
       "      <td>Ay:</td>\n",
       "      <td>0.13</td>\n",
       "      <td>Az:</td>\n",
       "      <td>0.02</td>\n",
       "      <td>T:</td>\n",
       "      <td>28.91</td>\n",
       "      <td>Gx:</td>\n",
       "      <td>0.16</td>\n",
       "      <td>Gy:</td>\n",
       "      <td>9.4</td>\n",
       "      <td>Gz:</td>\n",
       "      <td>-7.67</td>\n",
       "    </tr>\n",
       "    <tr>\n",
       "      <td>3</td>\n",
       "      <td>Ax:</td>\n",
       "      <td>1.02</td>\n",
       "      <td>Ay:</td>\n",
       "      <td>0.13</td>\n",
       "      <td>Az:</td>\n",
       "      <td>0.02</td>\n",
       "      <td>T:</td>\n",
       "      <td>28.91</td>\n",
       "      <td>Gx:</td>\n",
       "      <td>0.16</td>\n",
       "      <td>Gy:</td>\n",
       "      <td>9.4</td>\n",
       "      <td>Gz:</td>\n",
       "      <td>-7.67</td>\n",
       "    </tr>\n",
       "    <tr>\n",
       "      <td>4</td>\n",
       "      <td>Ax:</td>\n",
       "      <td>1.02</td>\n",
       "      <td>Ay:</td>\n",
       "      <td>0.13</td>\n",
       "      <td>Az:</td>\n",
       "      <td>0.02</td>\n",
       "      <td>T:</td>\n",
       "      <td>28.91</td>\n",
       "      <td>Gx:</td>\n",
       "      <td>0.16</td>\n",
       "      <td>Gy:</td>\n",
       "      <td>9.4</td>\n",
       "      <td>Gz:</td>\n",
       "      <td>-7.67</td>\n",
       "    </tr>\n",
       "  </tbody>\n",
       "</table>\n",
       "</div>"
      ],
      "text/plain": [
       "    0     1    2     3    4     5   6      7    8     9    10   11   12    13\n",
       "0  Ax:  1.02  Ay:  0.13  Az:  0.02  T:  28.91  Gx:  0.16  Gy:  9.4  Gz: -7.67\n",
       "1  Ax:  1.02  Ay:  0.13  Az:  0.02  T:  28.91  Gx:  0.16  Gy:  9.4  Gz: -7.67\n",
       "2  Ax:  1.02  Ay:  0.13  Az:  0.02  T:  28.91  Gx:  0.16  Gy:  9.4  Gz: -7.67\n",
       "3  Ax:  1.02  Ay:  0.13  Az:  0.02  T:  28.91  Gx:  0.16  Gy:  9.4  Gz: -7.67\n",
       "4  Ax:  1.02  Ay:  0.13  Az:  0.02  T:  28.91  Gx:  0.16  Gy:  9.4  Gz: -7.67"
      ]
     },
     "execution_count": 8,
     "metadata": {},
     "output_type": "execute_result"
    }
   ],
   "source": [
    "data.head()"
   ]
  },
  {
   "cell_type": "code",
   "execution_count": 9,
   "metadata": {},
   "outputs": [],
   "source": [
    "column_names = ['Ax', 'Ay', 'Az', 'T', 'Gx', 'Gy', 'Gz']"
   ]
  },
  {
   "cell_type": "code",
   "execution_count": 18,
   "metadata": {},
   "outputs": [],
   "source": [
    "data = data.drop([2,4,6,8,10,12], axis=1)"
   ]
  },
  {
   "cell_type": "code",
   "execution_count": 19,
   "metadata": {},
   "outputs": [],
   "source": [
    "data.columns = column_names"
   ]
  },
  {
   "cell_type": "code",
   "execution_count": 20,
   "metadata": {},
   "outputs": [
    {
     "data": {
      "text/html": [
       "<div>\n",
       "<style scoped>\n",
       "    .dataframe tbody tr th:only-of-type {\n",
       "        vertical-align: middle;\n",
       "    }\n",
       "\n",
       "    .dataframe tbody tr th {\n",
       "        vertical-align: top;\n",
       "    }\n",
       "\n",
       "    .dataframe thead th {\n",
       "        text-align: right;\n",
       "    }\n",
       "</style>\n",
       "<table border=\"1\" class=\"dataframe\">\n",
       "  <thead>\n",
       "    <tr style=\"text-align: right;\">\n",
       "      <th></th>\n",
       "      <th>Ax</th>\n",
       "      <th>Ay</th>\n",
       "      <th>Az</th>\n",
       "      <th>T</th>\n",
       "      <th>Gx</th>\n",
       "      <th>Gy</th>\n",
       "      <th>Gz</th>\n",
       "    </tr>\n",
       "  </thead>\n",
       "  <tbody>\n",
       "    <tr>\n",
       "      <td>0</td>\n",
       "      <td>1.02</td>\n",
       "      <td>0.13</td>\n",
       "      <td>0.02</td>\n",
       "      <td>28.91</td>\n",
       "      <td>0.16</td>\n",
       "      <td>9.4</td>\n",
       "      <td>-7.67</td>\n",
       "    </tr>\n",
       "    <tr>\n",
       "      <td>1</td>\n",
       "      <td>1.02</td>\n",
       "      <td>0.13</td>\n",
       "      <td>0.02</td>\n",
       "      <td>28.91</td>\n",
       "      <td>0.16</td>\n",
       "      <td>9.4</td>\n",
       "      <td>-7.67</td>\n",
       "    </tr>\n",
       "    <tr>\n",
       "      <td>2</td>\n",
       "      <td>1.02</td>\n",
       "      <td>0.13</td>\n",
       "      <td>0.02</td>\n",
       "      <td>28.91</td>\n",
       "      <td>0.16</td>\n",
       "      <td>9.4</td>\n",
       "      <td>-7.67</td>\n",
       "    </tr>\n",
       "    <tr>\n",
       "      <td>3</td>\n",
       "      <td>1.02</td>\n",
       "      <td>0.13</td>\n",
       "      <td>0.02</td>\n",
       "      <td>28.91</td>\n",
       "      <td>0.16</td>\n",
       "      <td>9.4</td>\n",
       "      <td>-7.67</td>\n",
       "    </tr>\n",
       "    <tr>\n",
       "      <td>4</td>\n",
       "      <td>1.02</td>\n",
       "      <td>0.13</td>\n",
       "      <td>0.02</td>\n",
       "      <td>28.91</td>\n",
       "      <td>0.16</td>\n",
       "      <td>9.4</td>\n",
       "      <td>-7.67</td>\n",
       "    </tr>\n",
       "  </tbody>\n",
       "</table>\n",
       "</div>"
      ],
      "text/plain": [
       "     Ax    Ay    Az      T    Gx   Gy    Gz\n",
       "0  1.02  0.13  0.02  28.91  0.16  9.4 -7.67\n",
       "1  1.02  0.13  0.02  28.91  0.16  9.4 -7.67\n",
       "2  1.02  0.13  0.02  28.91  0.16  9.4 -7.67\n",
       "3  1.02  0.13  0.02  28.91  0.16  9.4 -7.67\n",
       "4  1.02  0.13  0.02  28.91  0.16  9.4 -7.67"
      ]
     },
     "execution_count": 20,
     "metadata": {},
     "output_type": "execute_result"
    }
   ],
   "source": [
    "data.head()"
   ]
  },
  {
   "cell_type": "code",
   "execution_count": 21,
   "metadata": {},
   "outputs": [
    {
     "data": {
      "text/html": [
       "<div>\n",
       "<style scoped>\n",
       "    .dataframe tbody tr th:only-of-type {\n",
       "        vertical-align: middle;\n",
       "    }\n",
       "\n",
       "    .dataframe tbody tr th {\n",
       "        vertical-align: top;\n",
       "    }\n",
       "\n",
       "    .dataframe thead th {\n",
       "        text-align: right;\n",
       "    }\n",
       "</style>\n",
       "<table border=\"1\" class=\"dataframe\">\n",
       "  <thead>\n",
       "    <tr style=\"text-align: right;\">\n",
       "      <th></th>\n",
       "      <th>Ax</th>\n",
       "      <th>Ay</th>\n",
       "      <th>Az</th>\n",
       "      <th>T</th>\n",
       "      <th>Gx</th>\n",
       "      <th>Gy</th>\n",
       "      <th>Gz</th>\n",
       "    </tr>\n",
       "  </thead>\n",
       "  <tbody>\n",
       "    <tr>\n",
       "      <td>count</td>\n",
       "      <td>1000.00000</td>\n",
       "      <td>1000.000000</td>\n",
       "      <td>1000.000000</td>\n",
       "      <td>1000.000000</td>\n",
       "      <td>1000.000000</td>\n",
       "      <td>1000.000000</td>\n",
       "      <td>1000.000000</td>\n",
       "    </tr>\n",
       "    <tr>\n",
       "      <td>mean</td>\n",
       "      <td>0.90377</td>\n",
       "      <td>-0.112600</td>\n",
       "      <td>0.248860</td>\n",
       "      <td>28.719850</td>\n",
       "      <td>3.770610</td>\n",
       "      <td>-7.115110</td>\n",
       "      <td>9.280970</td>\n",
       "    </tr>\n",
       "    <tr>\n",
       "      <td>std</td>\n",
       "      <td>0.43227</td>\n",
       "      <td>0.350859</td>\n",
       "      <td>0.966401</td>\n",
       "      <td>0.093736</td>\n",
       "      <td>90.196783</td>\n",
       "      <td>74.054258</td>\n",
       "      <td>47.395707</td>\n",
       "    </tr>\n",
       "    <tr>\n",
       "      <td>min</td>\n",
       "      <td>-0.85000</td>\n",
       "      <td>-1.770000</td>\n",
       "      <td>-2.000000</td>\n",
       "      <td>28.440000</td>\n",
       "      <td>-250.140000</td>\n",
       "      <td>-163.120000</td>\n",
       "      <td>-137.200000</td>\n",
       "    </tr>\n",
       "    <tr>\n",
       "      <td>25%</td>\n",
       "      <td>0.80000</td>\n",
       "      <td>-0.190000</td>\n",
       "      <td>-0.160000</td>\n",
       "      <td>28.670000</td>\n",
       "      <td>0.730000</td>\n",
       "      <td>-51.740000</td>\n",
       "      <td>-14.277500</td>\n",
       "    </tr>\n",
       "    <tr>\n",
       "      <td>50%</td>\n",
       "      <td>0.99000</td>\n",
       "      <td>-0.030000</td>\n",
       "      <td>0.420000</td>\n",
       "      <td>28.720000</td>\n",
       "      <td>28.450000</td>\n",
       "      <td>-6.240000</td>\n",
       "      <td>8.030000</td>\n",
       "    </tr>\n",
       "    <tr>\n",
       "      <td>75%</td>\n",
       "      <td>1.11250</td>\n",
       "      <td>0.060000</td>\n",
       "      <td>0.710000</td>\n",
       "      <td>28.770000</td>\n",
       "      <td>57.560000</td>\n",
       "      <td>16.577500</td>\n",
       "      <td>31.630000</td>\n",
       "    </tr>\n",
       "    <tr>\n",
       "      <td>max</td>\n",
       "      <td>1.87000</td>\n",
       "      <td>0.710000</td>\n",
       "      <td>2.000000</td>\n",
       "      <td>28.910000</td>\n",
       "      <td>139.050000</td>\n",
       "      <td>250.130000</td>\n",
       "      <td>250.130000</td>\n",
       "    </tr>\n",
       "  </tbody>\n",
       "</table>\n",
       "</div>"
      ],
      "text/plain": [
       "               Ax           Ay           Az            T           Gx  \\\n",
       "count  1000.00000  1000.000000  1000.000000  1000.000000  1000.000000   \n",
       "mean      0.90377    -0.112600     0.248860    28.719850     3.770610   \n",
       "std       0.43227     0.350859     0.966401     0.093736    90.196783   \n",
       "min      -0.85000    -1.770000    -2.000000    28.440000  -250.140000   \n",
       "25%       0.80000    -0.190000    -0.160000    28.670000     0.730000   \n",
       "50%       0.99000    -0.030000     0.420000    28.720000    28.450000   \n",
       "75%       1.11250     0.060000     0.710000    28.770000    57.560000   \n",
       "max       1.87000     0.710000     2.000000    28.910000   139.050000   \n",
       "\n",
       "                Gy           Gz  \n",
       "count  1000.000000  1000.000000  \n",
       "mean     -7.115110     9.280970  \n",
       "std      74.054258    47.395707  \n",
       "min    -163.120000  -137.200000  \n",
       "25%     -51.740000   -14.277500  \n",
       "50%      -6.240000     8.030000  \n",
       "75%      16.577500    31.630000  \n",
       "max     250.130000   250.130000  "
      ]
     },
     "execution_count": 21,
     "metadata": {},
     "output_type": "execute_result"
    }
   ],
   "source": [
    "data.describe()"
   ]
  },
  {
   "cell_type": "code",
   "execution_count": 30,
   "metadata": {},
   "outputs": [
    {
     "data": {
      "text/plain": [
       "<matplotlib.axes._subplots.AxesSubplot at 0x130ef64d0>"
      ]
     },
     "execution_count": 30,
     "metadata": {},
     "output_type": "execute_result"
    },
    {
     "data": {
      "image/png": "[encoded data removed]",
      "text/plain": [
       "<Figure size 432x288 with 1 Axes>"
      ]
     },
     "metadata": {
      "needs_background": "light"
     },
     "output_type": "display_data"
    }
   ],
   "source": [
    "ax = plt.gca()\n",
    "\n",
    "data.plot(kind='line', x='T', y=['Ay'], ax=ax)\n"
   ]
  },
  {
   "cell_type": "code",
   "execution_count": 33,
   "metadata": {},
   "outputs": [
    {
     "data": {
      "text/plain": [
       "<matplotlib.axes._subplots.AxesSubplot at 0x130ef64d0>"
      ]
     },
     "execution_count": 33,
     "metadata": {},
     "output_type": "execute_result"
    }
   ],
   "source": [
    "data.plot(kind='line', x='T', y=['Ax'], ax=ax)"
   ]
  },
  {
   "cell_type": "code",
   "execution_count": 34,
   "metadata": {},
   "outputs": [
    {
     "data": {
      "text/plain": [
       "<matplotlib.axes._subplots.AxesSubplot at 0x130ef64d0>"
      ]
     },
     "execution_count": 34,
     "metadata": {},
     "output_type": "execute_result"
    }
   ],
   "source": [
    "data.plot(kind='line', x='T', y=['Az'], ax=ax)"
   ]
  },
  {
   "cell_type": "code",
   "execution_count": 39,
   "metadata": {},
   "outputs": [
    {
     "data": {
      "text/plain": [
       "<matplotlib.axes._subplots.AxesSubplot at 0x12bad7710>"
      ]
     },
     "execution_count": 39,
     "metadata": {},
     "output_type": "execute_result"
    },
    {
     "data": {
      "image/png": "[encoded data removed]",
      "text/plain": [
       "<Figure size 432x288 with 1 Axes>"
      ]
     },
     "metadata": {
      "needs_background": "light"
     },
     "output_type": "display_data"
    }
   ],
   "source": [
    "data[\"Ax\"].plot()"
   ]
  },
  {
   "cell_type": "code",
   "execution_count": 44,
   "metadata": {},
   "outputs": [
    {
     "data": {
      "image/png": "[encoded data removed]",
      "text/plain": [
       "<Figure size 432x288 with 1 Axes>"
      ]
     },
     "metadata": {
      "needs_background": "light"
     },
     "output_type": "display_data"
    }
   ],
   "source": [
    "Ax = data[\"Ax\"].plot()\n",
    "Ay = data[\"Ay\"].plot()\n",
    "Az = data[\"Az\"].plot()"
   ]
  },
  {
   "cell_type": "code",
   "execution_count": 45,
   "metadata": {},
   "outputs": [
    {
     "ename": "ValueError",
     "evalue": "The Subplot must have been created in the present figure",
     "output_type": "error",
     "traceback": [
      "\u001b[0;31m---------------------------------------------------------------------------\u001b[0m",
      "\u001b[0;31mValueError\u001b[0m                                Traceback (most recent call last)",
      "\u001b[0;32m<ipython-input-45-7bfbaf3e7196>\u001b[0m in \u001b[0;36m<module>\u001b[0;34m\u001b[0m\n\u001b[0;32m----> 1\u001b[0;31m \u001b[0mplt\u001b[0m\u001b[0;34m.\u001b[0m\u001b[0msubplot\u001b[0m\u001b[0;34m(\u001b[0m\u001b[0mAx\u001b[0m\u001b[0;34m)\u001b[0m\u001b[0;34m\u001b[0m\u001b[0;34m\u001b[0m\u001b[0m\n\u001b[0m\u001b[1;32m      2\u001b[0m \u001b[0mplt\u001b[0m\u001b[0;34m.\u001b[0m\u001b[0msubplot\u001b[0m\u001b[0;34m(\u001b[0m\u001b[0mAy\u001b[0m\u001b[0;34m)\u001b[0m\u001b[0;34m\u001b[0m\u001b[0;34m\u001b[0m\u001b[0m\n\u001b[1;32m      3\u001b[0m \u001b[0mplt\u001b[0m\u001b[0;34m.\u001b[0m\u001b[0msubplot\u001b[0m\u001b[0;34m(\u001b[0m\u001b[0mAz\u001b[0m\u001b[0;34m)\u001b[0m\u001b[0;34m\u001b[0m\u001b[0;34m\u001b[0m\u001b[0m\n",
      "\u001b[0;32m/opt/anaconda3/lib/python3.7/site-packages/matplotlib/pyplot.py\u001b[0m in \u001b[0;36msubplot\u001b[0;34m(*args, **kwargs)\u001b[0m\n\u001b[1;32m   1074\u001b[0m \u001b[0;34m\u001b[0m\u001b[0m\n\u001b[1;32m   1075\u001b[0m     \u001b[0mfig\u001b[0m \u001b[0;34m=\u001b[0m \u001b[0mgcf\u001b[0m\u001b[0;34m(\u001b[0m\u001b[0;34m)\u001b[0m\u001b[0;34m\u001b[0m\u001b[0;34m\u001b[0m\u001b[0m\n\u001b[0;32m-> 1076\u001b[0;31m     \u001b[0ma\u001b[0m \u001b[0;34m=\u001b[0m \u001b[0mfig\u001b[0m\u001b[0;34m.\u001b[0m\u001b[0madd_subplot\u001b[0m\u001b[0;34m(\u001b[0m\u001b[0;34m*\u001b[0m\u001b[0margs\u001b[0m\u001b[0;34m,\u001b[0m \u001b[0;34m**\u001b[0m\u001b[0mkwargs\u001b[0m\u001b[0;34m)\u001b[0m\u001b[0;34m\u001b[0m\u001b[0;34m\u001b[0m\u001b[0m\n\u001b[0m\u001b[1;32m   1077\u001b[0m     \u001b[0mbbox\u001b[0m \u001b[0;34m=\u001b[0m \u001b[0ma\u001b[0m\u001b[0;34m.\u001b[0m\u001b[0mbbox\u001b[0m\u001b[0;34m\u001b[0m\u001b[0;34m\u001b[0m\u001b[0m\n\u001b[1;32m   1078\u001b[0m     \u001b[0mbyebye\u001b[0m \u001b[0;34m=\u001b[0m \u001b[0;34m[\u001b[0m\u001b[0;34m]\u001b[0m\u001b[0;34m\u001b[0m\u001b[0;34m\u001b[0m\u001b[0m\n",
      "\u001b[0;32m/opt/anaconda3/lib/python3.7/site-packages/matplotlib/figure.py\u001b[0m in \u001b[0;36madd_subplot\u001b[0;34m(self, *args, **kwargs)\u001b[0m\n\u001b[1;32m   1388\u001b[0m             \u001b[0;32mif\u001b[0m \u001b[0ma\u001b[0m\u001b[0;34m.\u001b[0m\u001b[0mget_figure\u001b[0m\u001b[0;34m(\u001b[0m\u001b[0;34m)\u001b[0m \u001b[0;32mis\u001b[0m \u001b[0;32mnot\u001b[0m \u001b[0mself\u001b[0m\u001b[0;34m:\u001b[0m\u001b[0;34m\u001b[0m\u001b[0;34m\u001b[0m\u001b[0m\n\u001b[1;32m   1389\u001b[0m                 raise ValueError(\n\u001b[0;32m-> 1390\u001b[0;31m                     \"The Subplot must have been created in the present figure\")\n\u001b[0m\u001b[1;32m   1391\u001b[0m             \u001b[0;31m# make a key for the subplot (which includes the axes object id\u001b[0m\u001b[0;34m\u001b[0m\u001b[0;34m\u001b[0m\u001b[0;34m\u001b[0m\u001b[0m\n\u001b[1;32m   1392\u001b[0m             \u001b[0;31m# in the hash)\u001b[0m\u001b[0;34m\u001b[0m\u001b[0;34m\u001b[0m\u001b[0;34m\u001b[0m\u001b[0m\n",
      "\u001b[0;31mValueError\u001b[0m: The Subplot must have been created in the present figure"
     ]
    },
    {
     "data": {
      "text/plain": [
       "<Figure size 432x288 with 0 Axes>"
      ]
     },
     "metadata": {},
     "output_type": "display_data"
    }
   ],
   "source": [
    "plt.subplot(Ax)\n",
    "plt.subplot(Ay)\n",
    "plt.subplot(Az)\n"
   ]
  },
  {
   "cell_type": "code",
   "execution_count": null,
   "metadata": {},
   "outputs": [],
   "source": []
  },
  {
   "cell_type": "code",
   "execution_count": null,
   "metadata": {},
   "outputs": [],
   "source": []
  },
  {
   "cell_type": "code",
   "execution_count": null,
   "metadata": {},
   "outputs": [],
   "source": []
  },
  {
   "cell_type": "code",
   "execution_count": null,
   "metadata": {},
   "outputs": [],
   "source": []
  },
  {
   "cell_type": "code",
   "execution_count": null,
   "metadata": {},
   "outputs": [],
   "source": [
    "\n",
    "\n",
    "\n",
    "\n",
    "\n",
    "\n",
    "\n"
   ]
  }
 ],
 "metadata": {
  "kernelspec": {
   "display_name": "Python 3",
   "language": "python",
   "name": "python3"
  },
  "language_info": {
   "codemirror_mode": {
    "name": "ipython",
    "version": 3
   },
   "file_extension": ".py",
   "mimetype": "text/x-python",
   "name": "python",
   "nbconvert_exporter": "python",
   "pygments_lexer": "ipython3",
   "version": "3.7.4"
  }
 },
 "nbformat": 4,
 "nbformat_minor": 2
}
